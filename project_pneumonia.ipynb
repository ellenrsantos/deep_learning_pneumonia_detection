{
 "cells": [
  {
   "cell_type": "code",
   "execution_count": null,
   "id": "b1817d23",
   "metadata": {},
   "outputs": [],
   "source": [
    "### Reopen on Teachable Machine:\n",
    "1. Acess [Teachable Machine](https://teachablemachine.withgoogle.com/).\n",
    "2. Click **\"Upload Project\"**.\n",
    "3. Select `project_pneumonia.tm`.\n",
    "\n",
    "---\n",
    "\n",
    "### Python (TensorFlow Lite):\n",
    "You can run inferences using the `project_pneumonia.tflite`:\n",
    "\n",
    "```python\n",
    "import tensorflow as tf\n",
    "import numpy as np\n",
    "from PIL import Image\n",
    "\n",
    "interpreter = tf.lite.Interpreter(model_path=\"model/project_pneumonia.tflite\")\n",
    "interpreter.allocate_tensors()\n",
    "\n",
    "input_details = interpreter.get_input_details()\n",
    "output_details = interpreter.get_output_details()\n",
    "\n",
    "img = Image.open(\"images.jpg\").resize((224, 224))\n",
    "img = np.array(img, dtype=np.float32) / 255.0\n",
    "img = np.expand_dims(img, axis=0)\n",
    "\n",
    "interpreter.set_tensor(input_details[0]['index'], img)\n",
    "interpreter.invoke()\n",
    "output_data = interpreter.get_tensor(output_details[0]['index'])\n",
    "\n",
    "labels = open(\"model/labels.txt\").read().splitlines()\n",
    "pred_index = np.argmax(output_data)\n",
    "print(f\"Expected Class: {labels[pred_index]} (Reliability: {output_data[0][pred_index]:.2f})\")\n"
   ]
  }
 ],
 "metadata": {
  "language_info": {
   "name": "python"
  }
 },
 "nbformat": 4,
 "nbformat_minor": 5
}
